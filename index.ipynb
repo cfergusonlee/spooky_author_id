{
 "cells": [
  {
   "cell_type": "markdown",
   "metadata": {},
   "source": [
    "# Spooky Author Identification <a class='tocSkip'>\n",
    "\n",
    "By: [**Courtney Ferguson Lee**](https://www.linkedin.com/in/courtneyfergusonlee/)\n",
    "\n",
    "<img src='https://raw.githubusercontent.com/spacecadet84/spooky_author_id/master/images/authors.png'>\n",
    "\n",
    "# Introduction\n",
    "\n",
    "This notebook tutorial will demonstrate how to use natural language processing to identify authors from text excerpts. It will also serve as my initial entry into Kaggle's natural language contest of the same name. The purpose is not to get to the top of the Kaggle leaderboard, but to help beginners develop their understanding of text learning. The authors include Edgar Allen Poe, HP Lovecraft and Mary Shelley. We'll start by exploring the structure of the data, then clean up any inconsistencies and create a few visualizations before feeding the data into our algorithm."
   ]
  },
  {
   "cell_type": "markdown",
   "metadata": {},
   "source": [
    "# Load Modules\n",
    "\n",
    "There are a lot of libraries below, so it may be prudent to explain the purpose of a few of the major players. Pandas and Numpy will be used to manipulate our CSV files as necessary, while matplotlib and seaborn will be used to create visualizations so that we can better understand our data. The natural language processing modules will be used to reformat and manipulate our text data so that we can feed it into our machine learning models."
   ]
  },
  {
   "cell_type": "code",
   "execution_count": 1,
   "metadata": {
    "collapsed": true,
    "scrolled": true
   },
   "outputs": [],
   "source": [
    "# Data Manipulation\n",
    "import pandas as pd\n",
    "import numpy as np\n",
    "pd.set_option('max_colwidth', 200)\n",
    "from IPython.display import display\n",
    "\n",
    "# Visualizations\n",
    "%matplotlib inline\n",
    "import matplotlib.pyplot as plt\n",
    "plt.rcParams['figure.figsize'] = [12, 8]\n",
    "import seaborn as sns\n",
    "sns.set_style('white')\n",
    "colors = sns.color_palette()\n",
    "import missingno as msno\n",
    "\n",
    "# Misc\n",
    "from time import time\n",
    "\n",
    "# Natural Language Processing\n",
    "import re\n",
    "from google.cloud import language\n",
    "from textblob import TextBlob as tb\n",
    "import nltk\n",
    "from nltk.corpus import stopwords\n",
    "from nltk.stem.snowball import SnowballStemmer\n",
    "from nltk.stem.wordnet import WordNetLemmatizer\n",
    "from nltk.corpus import wordnet\n",
    "from sklearn.feature_extraction.text import CountVectorizer, TfidfVectorizer, TfidfTransformer\n",
    "\n",
    "# Machine Learning Models\n",
    "from sklearn.model_selection import train_test_split, cross_val_score\n",
    "from sklearn.model_selection import GridSearchCV\n",
    "from sklearn.pipeline import Pipeline\n",
    "from sklearn.svm import LinearSVC\n",
    "from sklearn.linear_model import LogisticRegression, SGDClassifier\n",
    "from sklearn.naive_bayes import MultinomialNB\n",
    "from sklearn.ensemble import RandomForestClassifier\n",
    "\n",
    "from sklearn.metrics import accuracy_score, confusion_matrix"
   ]
  },
  {
   "cell_type": "markdown",
   "metadata": {},
   "source": [
    "# Load Data\n",
    "\n",
    "Our data is given to us in the form of two CSV files containing excerpts from each of the above 3 authors. We have a labeled dataset (\"train.csv\") which we will use to train our classifier and an unlabeled testing dataset aptly named \"test.csv\"."
   ]
  },
  {
   "cell_type": "code",
   "execution_count": 2,
   "metadata": {
    "collapsed": true
   },
   "outputs": [],
   "source": [
    "train = pd.read_csv('data/train.csv')\n",
    "test = pd.read_csv('data/test.csv')\n",
    "sample_submission = pd.read_csv('data/sample_submission.csv')\n",
    "\n",
    "train_df = pd.DataFrame(train)\n",
    "test_df = pd.DataFrame(test)"
   ]
  },
  {
   "cell_type": "markdown",
   "metadata": {},
   "source": [
    "# Data Structure\n",
    "\n",
    "Our training data is composed of 19,579 records and 3 variables: id, text and author. According to the contest page, the id column is a unique identifier for each sentence, which doesn't seem very useful right now. Assuming all exerpts were randomly selected, there shouldn't be any clear patterns from each exerpt's ID."
   ]
  },
  {
   "cell_type": "code",
   "execution_count": 3,
   "metadata": {},
   "outputs": [
    {
     "data": {
      "text/plain": [
       "(19579, 3)"
      ]
     },
     "metadata": {},
     "output_type": "display_data"
    },
    {
     "name": "stdout",
     "output_type": "stream",
     "text": [
      "<class 'pandas.core.frame.DataFrame'>\n",
      "RangeIndex: 19579 entries, 0 to 19578\n",
      "Data columns (total 3 columns):\n",
      "id        19579 non-null object\n",
      "text      19579 non-null object\n",
      "author    19579 non-null object\n",
      "dtypes: object(3)\n",
      "memory usage: 459.0+ KB\n"
     ]
    },
    {
     "data": {
      "text/plain": [
       "None"
      ]
     },
     "metadata": {},
     "output_type": "display_data"
    },
    {
     "data": {
      "text/html": [
       "<div>\n",
       "<style>\n",
       "    .dataframe thead tr:only-child th {\n",
       "        text-align: right;\n",
       "    }\n",
       "\n",
       "    .dataframe thead th {\n",
       "        text-align: left;\n",
       "    }\n",
       "\n",
       "    .dataframe tbody tr th {\n",
       "        vertical-align: top;\n",
       "    }\n",
       "</style>\n",
       "<table border=\"1\" class=\"dataframe\">\n",
       "  <thead>\n",
       "    <tr style=\"text-align: right;\">\n",
       "      <th></th>\n",
       "      <th>id</th>\n",
       "      <th>text</th>\n",
       "      <th>author</th>\n",
       "    </tr>\n",
       "  </thead>\n",
       "  <tbody>\n",
       "    <tr>\n",
       "      <th>count</th>\n",
       "      <td>19579</td>\n",
       "      <td>19579</td>\n",
       "      <td>19579</td>\n",
       "    </tr>\n",
       "    <tr>\n",
       "      <th>unique</th>\n",
       "      <td>19579</td>\n",
       "      <td>19579</td>\n",
       "      <td>3</td>\n",
       "    </tr>\n",
       "    <tr>\n",
       "      <th>top</th>\n",
       "      <td>id07303</td>\n",
       "      <td>I escaped from them to the room where lay the body of Elizabeth, my love, my wife, so lately living, so dear, so worthy.</td>\n",
       "      <td>EAP</td>\n",
       "    </tr>\n",
       "    <tr>\n",
       "      <th>freq</th>\n",
       "      <td>1</td>\n",
       "      <td>1</td>\n",
       "      <td>7900</td>\n",
       "    </tr>\n",
       "  </tbody>\n",
       "</table>\n",
       "</div>"
      ],
      "text/plain": [
       "             id  \\\n",
       "count     19579   \n",
       "unique    19579   \n",
       "top     id07303   \n",
       "freq          1   \n",
       "\n",
       "                                                                                                                            text  \\\n",
       "count                                                                                                                      19579   \n",
       "unique                                                                                                                     19579   \n",
       "top     I escaped from them to the room where lay the body of Elizabeth, my love, my wife, so lately living, so dear, so worthy.   \n",
       "freq                                                                                                                           1   \n",
       "\n",
       "       author  \n",
       "count   19579  \n",
       "unique      3  \n",
       "top       EAP  \n",
       "freq     7900  "
      ]
     },
     "metadata": {},
     "output_type": "display_data"
    }
   ],
   "source": [
    "display(train_df.shape)\n",
    "display(train_df.info())\n",
    "display(train_df.describe())"
   ]
  },
  {
   "cell_type": "markdown",
   "metadata": {},
   "source": [
    "# Feature Engineering\n",
    "\n",
    "The unicode characters aren't playing nicely with tb. Let's convert them to ascii strings for now. We risk losing information in the form of special characters, but if that becomes an issue we'll come back to this later."
   ]
  },
  {
   "cell_type": "code",
   "execution_count": 4,
   "metadata": {
    "collapsed": true
   },
   "outputs": [],
   "source": [
    "train_df.text = train_df.text.str.decode('utf-8', 'ignore')"
   ]
  },
  {
   "cell_type": "markdown",
   "metadata": {},
   "source": [
    "## Stem Words\n",
    "\n",
    "Our first step will be to convert our words into stem words. Stemming is the process of converting words into their root form. It may be helpful to go into detail here. For example, let's say we are trying identify whether an excerpt came from an MLA style guide or a baseball article and our classifier encountered the following words:\n",
    "\n",
    "- formater\n",
    "- formatted\n",
    "- formats\n",
    "- formatting\n",
    "\n",
    "The above words would all be converted to their stem: format. \"So what\" you might say. \"Why is this even useful?\" The main advantage of stemming is that it condenses our featureset, which will help improve the accuracy of our classifier. As we will see further below, text classification involves sparse data, which actually hurts the accuracy of our models (more data is not always more helpful). By stemming our words beforehand, we can reduce the number of features two-fold or three-fold for English words and even more than that in other languages."
   ]
  },
  {
   "cell_type": "code",
   "execution_count": 23,
   "metadata": {
    "collapsed": true
   },
   "outputs": [],
   "source": [
    "def get_wordnet_pos(treebank_tag):\n",
    "\n",
    "    if treebank_tag.startswith('J'):\n",
    "        return wordnet.ADJ\n",
    "    elif treebank_tag.startswith('V'):\n",
    "        return wordnet.VERB\n",
    "    elif treebank_tag.startswith('N'):\n",
    "        return wordnet.NOUN\n",
    "    elif treebank_tag.startswith('R'):\n",
    "        return wordnet.ADV\n",
    "    else:\n",
    "        return None"
   ]
  },
  {
   "cell_type": "code",
   "execution_count": 30,
   "metadata": {
    "collapsed": true
   },
   "outputs": [],
   "source": [
    "def get_lemmas(blob):\n",
    "    lemmatizer = WordNetLemmatizer()\n",
    "    lemmas = []\n",
    "    for word, pos in blob.tags:\n",
    "        wordnet_pos = get_wordnet_pos(pos)\n",
    "        if wordnet_pos:\n",
    "            lemmas.append(lemmatizer.lemmatize(word, wordnet_pos))\n",
    "        else: \n",
    "            lemmas.append(lemmatizer.lemmatize(word))\n",
    "    return lemmas"
   ]
  },
  {
   "cell_type": "code",
   "execution_count": 33,
   "metadata": {
    "collapsed": true
   },
   "outputs": [],
   "source": [
    "def get_stems(words):\n",
    "    stemmer = SnowballStemmer(\"english\")\n",
    "    stems = []\n",
    "    if len(words)>0:\n",
    "        for word in words:\n",
    "            stems.append(stemmer.stem(word))\n",
    "    return \" \".join(stems)"
   ]
  },
  {
   "cell_type": "code",
   "execution_count": 35,
   "metadata": {
    "collapsed": true
   },
   "outputs": [],
   "source": [
    "train_df['text_blobs'] = train_df.text.apply(tb)\n",
    "train_df['text_blob_words'] = train_df.text_blobs.apply(lambda x: (x.words))\n",
    "train_df['lemmas'] = train_df.text_blobs.apply(get_lemmas)\n",
    "train_df['lemma_stems'] = train_df.lemmas.apply(get_stems)\n",
    "train_df['stems'] = train_df.text_blob_words.apply(get_stems)\n",
    "train_df['words'] = train_df.text_blob_words.apply(lambda x: \" \".join(list(x)))\n",
    "train_df['word_count'] = train_df.text_blob_words.apply(len)"
   ]
  },
  {
   "cell_type": "code",
   "execution_count": 36,
   "metadata": {},
   "outputs": [
    {
     "data": {
      "text/html": [
       "<div>\n",
       "<style>\n",
       "    .dataframe thead tr:only-child th {\n",
       "        text-align: right;\n",
       "    }\n",
       "\n",
       "    .dataframe thead th {\n",
       "        text-align: left;\n",
       "    }\n",
       "\n",
       "    .dataframe tbody tr th {\n",
       "        vertical-align: top;\n",
       "    }\n",
       "</style>\n",
       "<table border=\"1\" class=\"dataframe\">\n",
       "  <thead>\n",
       "    <tr style=\"text-align: right;\">\n",
       "      <th></th>\n",
       "      <th>id</th>\n",
       "      <th>text</th>\n",
       "      <th>author</th>\n",
       "      <th>text_blobs</th>\n",
       "      <th>lemmas</th>\n",
       "      <th>lemma_stems</th>\n",
       "      <th>text_blob_words</th>\n",
       "      <th>stems</th>\n",
       "      <th>words</th>\n",
       "      <th>word_count</th>\n",
       "    </tr>\n",
       "  </thead>\n",
       "  <tbody>\n",
       "    <tr>\n",
       "      <th>0</th>\n",
       "      <td>id26305</td>\n",
       "      <td>This process, however, afforded me no means of ascertaining the dimensions of my dungeon; as I might make its circuit, and return to the point whence I set out, without being aware of the fact; so...</td>\n",
       "      <td>EAP</td>\n",
       "      <td>(T, h, i, s,  , p, r, o, c, e, s, s, ,,  , h, o, w, e, v, e, r, ,,  , a, f, f, o, r, d, e, d,  , m, e,  , n, o,  , m, e, a, n, s,  , o, f,  , a, s, c, e, r, t, a, i, n, i, n, g,  , t, h, e,  , d, ...</td>\n",
       "      <td>[This, process, however, afford, me, no, mean, of, ascertain, the, dimension, of, my, dungeon, a, I, might, make, it, circuit, and, return, to, the, point, whence, I, set, out, without, be, aware,...</td>\n",
       "      <td>this process howev afford me no mean of ascertain the dimens of my dungeon a i might make it circuit and return to the point whenc i set out without be awar of the fact so perfect uniform seem the...</td>\n",
       "      <td>[This, process, however, afforded, me, no, means, of, ascertaining, the, dimensions, of, my, dungeon, as, I, might, make, its, circuit, and, return, to, the, point, whence, I, set, out, without, b...</td>\n",
       "      <td>this process howev afford me no mean of ascertain the dimens of my dungeon as i might make it circuit and return to the point whenc i set out without be awar of the fact so perfect uniform seem th...</td>\n",
       "      <td>This process however afforded me no means of ascertaining the dimensions of my dungeon as I might make its circuit and return to the point whence I set out without being aware of the fact so perfe...</td>\n",
       "      <td>41</td>\n",
       "    </tr>\n",
       "    <tr>\n",
       "      <th>1</th>\n",
       "      <td>id17569</td>\n",
       "      <td>It never once occurred to me that the fumbling might be a mere mistake.</td>\n",
       "      <td>HPL</td>\n",
       "      <td>(I, t,  , n, e, v, e, r,  , o, n, c, e,  , o, c, c, u, r, r, e, d,  , t, o,  , m, e,  , t, h, a, t,  , t, h, e,  , f, u, m, b, l, i, n, g,  , m, i, g, h, t,  , b, e,  , a,  , m, e, r, e,  , m, i, ...</td>\n",
       "      <td>[It, never, once, occur, to, me, that, the, fumbling, might, be, a, mere, mistake]</td>\n",
       "      <td>it never onc occur to me that the fumbl might be a mere mistak</td>\n",
       "      <td>[It, never, once, occurred, to, me, that, the, fumbling, might, be, a, mere, mistake]</td>\n",
       "      <td>it never onc occur to me that the fumbl might be a mere mistak</td>\n",
       "      <td>It never once occurred to me that the fumbling might be a mere mistake</td>\n",
       "      <td>14</td>\n",
       "    </tr>\n",
       "    <tr>\n",
       "      <th>2</th>\n",
       "      <td>id11008</td>\n",
       "      <td>In his left hand was a gold snuff box, from which, as he capered down the hill, cutting all manner of fantastic steps, he took snuff incessantly with an air of the greatest possible self satisfact...</td>\n",
       "      <td>EAP</td>\n",
       "      <td>(I, n,  , h, i, s,  , l, e, f, t,  , h, a, n, d,  , w, a, s,  , a,  , g, o, l, d,  , s, n, u, f, f,  , b, o, x, ,,  , f, r, o, m,  , w, h, i, c, h, ,,  , a, s,  , h, e,  , c, a, p, e, r, e, d,  , ...</td>\n",
       "      <td>[In, his, left, hand, be, a, gold, snuff, box, from, which, a, he, caper, down, the, hill, cut, all, manner, of, fantastic, step, he, take, snuff, incessantly, with, an, air, of, the, great, possi...</td>\n",
       "      <td>in his left hand be a gold snuff box from which a he caper down the hill cut all manner of fantast step he take snuff incess with an air of the great possibl self satisfact</td>\n",
       "      <td>[In, his, left, hand, was, a, gold, snuff, box, from, which, as, he, capered, down, the, hill, cutting, all, manner, of, fantastic, steps, he, took, snuff, incessantly, with, an, air, of, the, gre...</td>\n",
       "      <td>in his left hand was a gold snuff box from which as he caper down the hill cut all manner of fantast step he took snuff incess with an air of the greatest possibl self satisfact</td>\n",
       "      <td>In his left hand was a gold snuff box from which as he capered down the hill cutting all manner of fantastic steps he took snuff incessantly with an air of the greatest possible self satisfaction</td>\n",
       "      <td>36</td>\n",
       "    </tr>\n",
       "    <tr>\n",
       "      <th>3</th>\n",
       "      <td>id27763</td>\n",
       "      <td>How lovely is spring As we looked from Windsor Terrace on the sixteen fertile counties spread beneath, speckled by happy cottages and wealthier towns, all looked as in former years, heart cheering...</td>\n",
       "      <td>MWS</td>\n",
       "      <td>(H, o, w,  , l, o, v, e, l, y,  , i, s,  , s, p, r, i, n, g,  , A, s,  , w, e,  , l, o, o, k, e, d,  , f, r, o, m,  , W, i, n, d, s, o, r,  , T, e, r, r, a, c, e,  , o, n,  , t, h, e,  , s, i, x, ...</td>\n",
       "      <td>[How, lovely, be, spring, As, we, look, from, Windsor, Terrace, on, the, sixteen, fertile, county, spread, beneath, speckle, by, happy, cottage, and, wealthy, town, all, look, a, in, former, year,...</td>\n",
       "      <td>how love be spring as we look from windsor terrac on the sixteen fertil counti spread beneath speckl by happi cottag and wealthi town all look a in former year heart cheer and fair</td>\n",
       "      <td>[How, lovely, is, spring, As, we, looked, from, Windsor, Terrace, on, the, sixteen, fertile, counties, spread, beneath, speckled, by, happy, cottages, and, wealthier, towns, all, looked, as, in, f...</td>\n",
       "      <td>how love is spring as we look from windsor terrac on the sixteen fertil counti spread beneath speckl by happi cottag and wealthier town all look as in former year heart cheer and fair</td>\n",
       "      <td>How lovely is spring As we looked from Windsor Terrace on the sixteen fertile counties spread beneath speckled by happy cottages and wealthier towns all looked as in former years heart cheering an...</td>\n",
       "      <td>34</td>\n",
       "    </tr>\n",
       "    <tr>\n",
       "      <th>4</th>\n",
       "      <td>id12958</td>\n",
       "      <td>Finding nothing else, not even gold, the Superintendent abandoned his attempts; but a perplexed look occasionally steals over his countenance as he sits thinking at his desk.</td>\n",
       "      <td>HPL</td>\n",
       "      <td>(F, i, n, d, i, n, g,  , n, o, t, h, i, n, g,  , e, l, s, e, ,,  , n, o, t,  , e, v, e, n,  , g, o, l, d, ,,  , t, h, e,  , S, u, p, e, r, i, n, t, e, n, d, e, n, t,  , a, b, a, n, d, o, n, e, d, ...</td>\n",
       "      <td>[Finding, nothing, else, not, even, gold, the, Superintendent, abandon, his, attempt, but, a, perplexed, look, occasionally, steal, over, his, countenance, a, he, sit, think, at, his, desk]</td>\n",
       "      <td>find noth els not even gold the superintend abandon his attempt but a perplex look occasion steal over his counten a he sit think at his desk</td>\n",
       "      <td>[Finding, nothing, else, not, even, gold, the, Superintendent, abandoned, his, attempts, but, a, perplexed, look, occasionally, steals, over, his, countenance, as, he, sits, thinking, at, his, desk]</td>\n",
       "      <td>find noth els not even gold the superintend abandon his attempt but a perplex look occasion steal over his counten as he sit think at his desk</td>\n",
       "      <td>Finding nothing else not even gold the Superintendent abandoned his attempts but a perplexed look occasionally steals over his countenance as he sits thinking at his desk</td>\n",
       "      <td>27</td>\n",
       "    </tr>\n",
       "  </tbody>\n",
       "</table>\n",
       "</div>"
      ],
      "text/plain": [
       "        id  \\\n",
       "0  id26305   \n",
       "1  id17569   \n",
       "2  id11008   \n",
       "3  id27763   \n",
       "4  id12958   \n",
       "\n",
       "                                                                                                                                                                                                      text  \\\n",
       "0  This process, however, afforded me no means of ascertaining the dimensions of my dungeon; as I might make its circuit, and return to the point whence I set out, without being aware of the fact; so...   \n",
       "1                                                                                                                                  It never once occurred to me that the fumbling might be a mere mistake.   \n",
       "2  In his left hand was a gold snuff box, from which, as he capered down the hill, cutting all manner of fantastic steps, he took snuff incessantly with an air of the greatest possible self satisfact...   \n",
       "3  How lovely is spring As we looked from Windsor Terrace on the sixteen fertile counties spread beneath, speckled by happy cottages and wealthier towns, all looked as in former years, heart cheering...   \n",
       "4                           Finding nothing else, not even gold, the Superintendent abandoned his attempts; but a perplexed look occasionally steals over his countenance as he sits thinking at his desk.   \n",
       "\n",
       "  author  \\\n",
       "0    EAP   \n",
       "1    HPL   \n",
       "2    EAP   \n",
       "3    MWS   \n",
       "4    HPL   \n",
       "\n",
       "                                                                                                                                                                                                text_blobs  \\\n",
       "0  (T, h, i, s,  , p, r, o, c, e, s, s, ,,  , h, o, w, e, v, e, r, ,,  , a, f, f, o, r, d, e, d,  , m, e,  , n, o,  , m, e, a, n, s,  , o, f,  , a, s, c, e, r, t, a, i, n, i, n, g,  , t, h, e,  , d, ...   \n",
       "1  (I, t,  , n, e, v, e, r,  , o, n, c, e,  , o, c, c, u, r, r, e, d,  , t, o,  , m, e,  , t, h, a, t,  , t, h, e,  , f, u, m, b, l, i, n, g,  , m, i, g, h, t,  , b, e,  , a,  , m, e, r, e,  , m, i, ...   \n",
       "2  (I, n,  , h, i, s,  , l, e, f, t,  , h, a, n, d,  , w, a, s,  , a,  , g, o, l, d,  , s, n, u, f, f,  , b, o, x, ,,  , f, r, o, m,  , w, h, i, c, h, ,,  , a, s,  , h, e,  , c, a, p, e, r, e, d,  , ...   \n",
       "3  (H, o, w,  , l, o, v, e, l, y,  , i, s,  , s, p, r, i, n, g,  , A, s,  , w, e,  , l, o, o, k, e, d,  , f, r, o, m,  , W, i, n, d, s, o, r,  , T, e, r, r, a, c, e,  , o, n,  , t, h, e,  , s, i, x, ...   \n",
       "4  (F, i, n, d, i, n, g,  , n, o, t, h, i, n, g,  , e, l, s, e, ,,  , n, o, t,  , e, v, e, n,  , g, o, l, d, ,,  , t, h, e,  , S, u, p, e, r, i, n, t, e, n, d, e, n, t,  , a, b, a, n, d, o, n, e, d, ...   \n",
       "\n",
       "                                                                                                                                                                                                    lemmas  \\\n",
       "0  [This, process, however, afford, me, no, mean, of, ascertain, the, dimension, of, my, dungeon, a, I, might, make, it, circuit, and, return, to, the, point, whence, I, set, out, without, be, aware,...   \n",
       "1                                                                                                                       [It, never, once, occur, to, me, that, the, fumbling, might, be, a, mere, mistake]   \n",
       "2  [In, his, left, hand, be, a, gold, snuff, box, from, which, a, he, caper, down, the, hill, cut, all, manner, of, fantastic, step, he, take, snuff, incessantly, with, an, air, of, the, great, possi...   \n",
       "3  [How, lovely, be, spring, As, we, look, from, Windsor, Terrace, on, the, sixteen, fertile, county, spread, beneath, speckle, by, happy, cottage, and, wealthy, town, all, look, a, in, former, year,...   \n",
       "4            [Finding, nothing, else, not, even, gold, the, Superintendent, abandon, his, attempt, but, a, perplexed, look, occasionally, steal, over, his, countenance, a, he, sit, think, at, his, desk]   \n",
       "\n",
       "                                                                                                                                                                                               lemma_stems  \\\n",
       "0  this process howev afford me no mean of ascertain the dimens of my dungeon a i might make it circuit and return to the point whenc i set out without be awar of the fact so perfect uniform seem the...   \n",
       "1                                                                                                                                           it never onc occur to me that the fumbl might be a mere mistak   \n",
       "2                             in his left hand be a gold snuff box from which a he caper down the hill cut all manner of fantast step he take snuff incess with an air of the great possibl self satisfact   \n",
       "3                     how love be spring as we look from windsor terrac on the sixteen fertil counti spread beneath speckl by happi cottag and wealthi town all look a in former year heart cheer and fair   \n",
       "4                                                            find noth els not even gold the superintend abandon his attempt but a perplex look occasion steal over his counten a he sit think at his desk   \n",
       "\n",
       "                                                                                                                                                                                           text_blob_words  \\\n",
       "0  [This, process, however, afforded, me, no, means, of, ascertaining, the, dimensions, of, my, dungeon, as, I, might, make, its, circuit, and, return, to, the, point, whence, I, set, out, without, b...   \n",
       "1                                                                                                                    [It, never, once, occurred, to, me, that, the, fumbling, might, be, a, mere, mistake]   \n",
       "2  [In, his, left, hand, was, a, gold, snuff, box, from, which, as, he, capered, down, the, hill, cutting, all, manner, of, fantastic, steps, he, took, snuff, incessantly, with, an, air, of, the, gre...   \n",
       "3  [How, lovely, is, spring, As, we, looked, from, Windsor, Terrace, on, the, sixteen, fertile, counties, spread, beneath, speckled, by, happy, cottages, and, wealthier, towns, all, looked, as, in, f...   \n",
       "4   [Finding, nothing, else, not, even, gold, the, Superintendent, abandoned, his, attempts, but, a, perplexed, look, occasionally, steals, over, his, countenance, as, he, sits, thinking, at, his, desk]   \n",
       "\n",
       "                                                                                                                                                                                                     stems  \\\n",
       "0  this process howev afford me no mean of ascertain the dimens of my dungeon as i might make it circuit and return to the point whenc i set out without be awar of the fact so perfect uniform seem th...   \n",
       "1                                                                                                                                           it never onc occur to me that the fumbl might be a mere mistak   \n",
       "2                        in his left hand was a gold snuff box from which as he caper down the hill cut all manner of fantast step he took snuff incess with an air of the greatest possibl self satisfact   \n",
       "3                  how love is spring as we look from windsor terrac on the sixteen fertil counti spread beneath speckl by happi cottag and wealthier town all look as in former year heart cheer and fair   \n",
       "4                                                           find noth els not even gold the superintend abandon his attempt but a perplex look occasion steal over his counten as he sit think at his desk   \n",
       "\n",
       "                                                                                                                                                                                                     words  \\\n",
       "0  This process however afforded me no means of ascertaining the dimensions of my dungeon as I might make its circuit and return to the point whence I set out without being aware of the fact so perfe...   \n",
       "1                                                                                                                                   It never once occurred to me that the fumbling might be a mere mistake   \n",
       "2      In his left hand was a gold snuff box from which as he capered down the hill cutting all manner of fantastic steps he took snuff incessantly with an air of the greatest possible self satisfaction   \n",
       "3  How lovely is spring As we looked from Windsor Terrace on the sixteen fertile counties spread beneath speckled by happy cottages and wealthier towns all looked as in former years heart cheering an...   \n",
       "4                               Finding nothing else not even gold the Superintendent abandoned his attempts but a perplexed look occasionally steals over his countenance as he sits thinking at his desk   \n",
       "\n",
       "   word_count  \n",
       "0          41  \n",
       "1          14  \n",
       "2          36  \n",
       "3          34  \n",
       "4          27  "
      ]
     },
     "execution_count": 36,
     "metadata": {},
     "output_type": "execute_result"
    }
   ],
   "source": [
    "train_df.head()"
   ]
  },
  {
   "cell_type": "markdown",
   "metadata": {},
   "source": [
    "# Visualizations"
   ]
  },
  {
   "cell_type": "code",
   "execution_count": 37,
   "metadata": {},
   "outputs": [
    {
     "data": {
      "image/png": "[encoded data removed]",
      "text/plain": [
       "<matplotlib.figure.Figure at 0x13188eb50>"
      ]
     },
     "metadata": {},
     "output_type": "display_data"
    }
   ],
   "source": [
    "author_counts = train_df.author.value_counts()\n",
    "sns.barplot(x=author_counts.index, y=author_counts.values)\n",
    "plt.show()"
   ]
  },
  {
   "cell_type": "code",
   "execution_count": 38,
   "metadata": {},
   "outputs": [
    {
     "data": {
      "image/png": "[encoded data removed]",
      "text/plain": [
       "<matplotlib.figure.Figure at 0x13188ecd0>"
      ]
     },
     "metadata": {},
     "output_type": "display_data"
    }
   ],
   "source": [
    "plt.hist(train_df[train_df.word_count<120].word_count, bins=50)\n",
    "plt.show()"
   ]
  },
  {
   "cell_type": "code",
   "execution_count": 39,
   "metadata": {},
   "outputs": [
    {
     "data": {
      "image/png": "[encoded data removed]",
      "text/plain": [
       "<matplotlib.figure.Figure at 0x145da2210>"
      ]
     },
     "metadata": {},
     "output_type": "display_data"
    }
   ],
   "source": [
    "sns.distplot(\n",
    "    train_df[(train_df.author=='EAP') & (train_df.word_count<120)].word_count,\n",
    "    color=colors[0]\n",
    ")\n",
    "sns.distplot(\n",
    "    train_df[(train_df.author=='MWS') & (train_df.word_count<120)].word_count,\n",
    "    color=colors[1]\n",
    ")\n",
    "sns.distplot(\n",
    "    train_df[(train_df.author=='HPL') & (train_df.word_count<120)].word_count,\n",
    "    color=colors[2]\n",
    ")\n",
    "plt.show()"
   ]
  },
  {
   "cell_type": "markdown",
   "metadata": {},
   "source": [
    "# Modeling"
   ]
  },
  {
   "cell_type": "markdown",
   "metadata": {},
   "source": [
    "## Unigram Vectorization"
   ]
  },
  {
   "cell_type": "markdown",
   "metadata": {},
   "source": [
    "### With Stemming"
   ]
  },
  {
   "cell_type": "code",
   "execution_count": 40,
   "metadata": {
    "collapsed": true
   },
   "outputs": [],
   "source": [
    "def vectorize(name, data):\n",
    "    vectorizer = TfidfVectorizer()\n",
    "    vectors = vectorizer.fit_transform(data)\n",
    "    print \"{0} Vector Shape: {1}\".format(name, vectors.shape)\n",
    "    return vectors"
   ]
  },
  {
   "cell_type": "code",
   "execution_count": 41,
   "metadata": {
    "collapsed": true
   },
   "outputs": [],
   "source": [
    "def get_scores(vectors, df):\n",
    "    #x_train, x_test, y_train, y_test = train_test_split(vectors, df.author, test_size=.3, random_state=42)\n",
    "    \n",
    "    nb = MultinomialNB()\n",
    "    svm = LinearSVC(random_state=42)\n",
    "    logr = LogisticRegression(random_state=42)\n",
    "    sgd = SGDClassifier(random_state=42)\n",
    "    rf = RandomForestClassifier(random_state=42)\n",
    "\n",
    "    classifiers = [\n",
    "        (\"Naive Bayes\", nb), \n",
    "        (\"Support Vector Machines\", svm), \n",
    "        (\"Logistic Regression\", logr), \n",
    "        (\"Stochastic Gradient Dissent\", sgd), \n",
    "        (\"Random Forests\", rf)]\n",
    "\n",
    "    scores = []\n",
    "\n",
    "    for classifier in classifiers:\n",
    "        name = classifier[0]\n",
    "        clf = classifier[1]\n",
    "        accuracies = cross_val_score(clf, vectors, df.author, cv=3)\n",
    "        scores.append((name, np.mean(accuracies)))\n",
    "        #clf.fit(x_train, y_train)\n",
    "        #pred = clf.predict(x_test)\n",
    "        #scores.append((name, accuracy_score(pred, y_test)))\n",
    "\n",
    "    return scores\n"
   ]
  },
  {
   "cell_type": "code",
   "execution_count": 42,
   "metadata": {
    "collapsed": true
   },
   "outputs": [],
   "source": [
    "def plot_scores(scores):\n",
    "    scores_df = pd.DataFrame(scores, columns=[\"name\", \"score\"])\n",
    "    scores_df.score *= 100\n",
    "    plt.bar(range(len(scores_df.name)), scores_df.score, alpha=.7, color=colors[0])\n",
    "    plt.xlabel('Model')\n",
    "    plt.ylabel('Accuracy')\n",
    "    plt.xticks(range(len(scores_df.name)), scores_df.name)\n",
    "    for x,y in zip(range(len(scores_df.name)), scores_df.score):\n",
    "        plt.text(x, y, \"{0:0.1f}\".format(y), ha='center', va='bottom')\n",
    "    plt.show()"
   ]
  },
  {
   "cell_type": "code",
   "execution_count": 43,
   "metadata": {},
   "outputs": [
    {
     "name": "stdout",
     "output_type": "stream",
     "text": [
      "Stem Vector Shape: (19579, 15130)\n"
     ]
    },
    {
     "name": "stderr",
     "output_type": "stream",
     "text": [
      "/Users/courtneyfergusonlee/anaconda/envs/DAND/lib/python2.7/site-packages/sklearn/linear_model/stochastic_gradient.py:84: FutureWarning: max_iter and tol parameters have been added in <class 'sklearn.linear_model.stochastic_gradient.SGDClassifier'> in 0.19. If both are left unset, they default to max_iter=5 and tol=None. If tol is not None, max_iter defaults to max_iter=1000. From 0.21, default max_iter will be 1000, and default tol will be 1e-3.\n",
      "  \"and default tol will be 1e-3.\" % type(self), FutureWarning)\n"
     ]
    },
    {
     "data": {
      "image/png": "[encoded data removed]",
      "text/plain": [
       "<matplotlib.figure.Figure at 0x145ef6a10>"
      ]
     },
     "metadata": {},
     "output_type": "display_data"
    }
   ],
   "source": [
    "vectors = vectorize(\"Stem\", train_df.stems)\n",
    "scores = get_scores(vectors, train_df)\n",
    "plot_scores(scores)"
   ]
  },
  {
   "cell_type": "markdown",
   "metadata": {},
   "source": [
    "### Stemming and Lemmatization"
   ]
  },
  {
   "cell_type": "code",
   "execution_count": 44,
   "metadata": {},
   "outputs": [
    {
     "name": "stdout",
     "output_type": "stream",
     "text": [
      "Word Vector Shape: (19579, 14912)\n"
     ]
    },
    {
     "data": {
      "image/png": "[encoded data removed]",
      "text/plain": [
       "<matplotlib.figure.Figure at 0x11391d390>"
      ]
     },
     "metadata": {},
     "output_type": "display_data"
    }
   ],
   "source": [
    "vectors = vectorize(\"Word\", train_df.lemma_stems)\n",
    "scores = get_scores(vectors, train_df)\n",
    "plot_scores(scores)"
   ]
  },
  {
   "cell_type": "markdown",
   "metadata": {},
   "source": [
    "### Without Stemming"
   ]
  },
  {
   "cell_type": "code",
   "execution_count": 45,
   "metadata": {},
   "outputs": [
    {
     "name": "stdout",
     "output_type": "stream",
     "text": [
      "Word Vector Shape: (19579, 25053)\n"
     ]
    },
    {
     "data": {
      "image/png": "[encoded data removed]",
      "text/plain": [
       "<matplotlib.figure.Figure at 0x146865690>"
      ]
     },
     "metadata": {},
     "output_type": "display_data"
    }
   ],
   "source": [
    "vectors = vectorize(\"Word\", train_df.words)\n",
    "scores = get_scores(vectors, train_df)\n",
    "plot_scores(scores)"
   ]
  },
  {
   "cell_type": "markdown",
   "metadata": {},
   "source": [
    "## Bigram Vectorization"
   ]
  },
  {
   "cell_type": "markdown",
   "metadata": {},
   "source": [
    "### With Stemming"
   ]
  },
  {
   "cell_type": "code",
   "execution_count": 126,
   "metadata": {},
   "outputs": [
    {
     "data": {
      "text/plain": [
       "(19579, 20467)"
      ]
     },
     "execution_count": 126,
     "metadata": {},
     "output_type": "execute_result"
    }
   ],
   "source": [
    "vectorizer = TfidfVectorizer(ngram_range=(1,2), min_df=5)\n",
    "vectors = vectorizer.fit_transform(train_df.stems)\n",
    "vectors.shape"
   ]
  },
  {
   "cell_type": "code",
   "execution_count": 127,
   "metadata": {},
   "outputs": [
    {
     "data": {
      "image/png": "[encoded data removed]",
      "text/plain": [
       "<matplotlib.figure.Figure at 0x12b98ab90>"
      ]
     },
     "metadata": {},
     "output_type": "display_data"
    }
   ],
   "source": [
    "scores = get_scores(vectors, train_df)\n",
    "plot_scores(scores)"
   ]
  },
  {
   "cell_type": "markdown",
   "metadata": {},
   "source": [
    "### Without Stemming"
   ]
  },
  {
   "cell_type": "code",
   "execution_count": 128,
   "metadata": {},
   "outputs": [
    {
     "data": {
      "text/plain": [
       "(19579, 21209)"
      ]
     },
     "execution_count": 128,
     "metadata": {},
     "output_type": "execute_result"
    }
   ],
   "source": [
    "vectorizer = TfidfVectorizer(ngram_range=(1,2), min_df=5)\n",
    "vectors = vectorizer.fit_transform(train_df.words)\n",
    "vectors.shape"
   ]
  },
  {
   "cell_type": "code",
   "execution_count": 129,
   "metadata": {},
   "outputs": [
    {
     "data": {
      "image/png": "[encoded data removed]",
      "text/plain": [
       "<matplotlib.figure.Figure at 0x12da8cdd0>"
      ]
     },
     "metadata": {},
     "output_type": "display_data"
    }
   ],
   "source": [
    "scores = get_scores(vectors, train_df)\n",
    "plot_scores(scores)"
   ]
  },
  {
   "cell_type": "markdown",
   "metadata": {},
   "source": [
    "## GridSearchCV for Multiple Parameters"
   ]
  },
  {
   "cell_type": "code",
   "execution_count": null,
   "metadata": {
    "collapsed": true
   },
   "outputs": [],
   "source": [
    "text_clf_svm = Pipeline([('vect', CountVectorizer()),\n",
    "                         ('tfidf', TfidfTransformer()),\n",
    "                         ('clf-svm', SGDClassifier(loss='hinge', \n",
    "                                                   penalty='l2',\n",
    "                                                   alpha=1e-3,\n",
    "                                                   n_iter=5,\n",
    "                                                   random_state=42)),"
   ]
  },
  {
   "cell_type": "code",
   "execution_count": 120,
   "metadata": {},
   "outputs": [
    {
     "name": "stdout",
     "output_type": "stream",
     "text": [
      "Training Classifier\n",
      "done in 17.3230888844 seconds\n",
      "Best estimator found by grid search: Pipeline(memory=None,\n",
      "     steps=[('vect', TfidfVectorizer(analyzer=u'word', binary=False, decode_error=u'strict',\n",
      "        dtype=<type 'numpy.int64'>, encoding=u'utf-8', input=u'content',\n",
      "        lowercase=True, max_df=1.0, max_features=None, min_df=5,\n",
      "        ngram_range=(1, 1), norm=u'l2', preprocessor=None, smooth_idf=True...='l2', power_t=0.5, random_state=None,\n",
      "       shuffle=True, tol=None, verbose=0, warm_start=False))])\n",
      "Best score found by grid search: 0.785688748149\n"
     ]
    }
   ],
   "source": [
    "\n",
    "\n",
    "svm_steps = [\n",
    "    ('vect', TfidfVectorizer(stop_words='english', min_df=5)),\n",
    "    ('tfidf', TfidfTransformer()),\n",
    "    ('clf', SGDClassifier())\n",
    "]\n",
    "         \n",
    "clf_svm = Pipeline(svm_steps)\n",
    "\n",
    "params_svm = {\n",
    "    'vect__ngram_range': [(1,1), (1,2), (2,2)],\n",
    "    'tfidf__use_idf': (True, False)\n",
    "}\n",
    "\n",
    "gs = GridSearchCV(clf_svm,\n",
    "                  params_svm,\n",
    "                  n_jobs = -1,\n",
    "                  cv = 3,\n",
    "                  scoring=\"accuracy\",\n",
    "                 )\n",
    "\n",
    "print \"Training Classifier\"\n",
    "t0 = time()\n",
    "\n",
    "x_train, x_test, y_train, y_test = train_test_split(train_df.stems, train_df.author, test_size=.3, random_state=42)\n",
    "gs = gs.fit(train_df.words, train_df.author)\n",
    "print \"done in {} seconds\".format(time() - t0)\n",
    "\n",
    "clf = gs.best_estimator_\n",
    "print \"Best estimator found by grid search:\", clf\n",
    "print \"Best score found by grid search:\", gs.best_score_"
   ]
  },
  {
   "cell_type": "code",
   "execution_count": 123,
   "metadata": {},
   "outputs": [
    {
     "name": "stdout",
     "output_type": "stream",
     "text": [
      "Training Classifier\n",
      "done in 62.2866590023 seconds\n",
      "Best estimator found by grid search: Pipeline(memory=None,\n",
      "     steps=[('vect', TfidfVectorizer(analyzer=u'word', binary=False, decode_error=u'strict',\n",
      "        dtype=<type 'numpy.int64'>, encoding=u'utf-8', input=u'content',\n",
      "        lowercase=True, max_df=1.0, max_features=None, min_df=5,\n",
      "        ngram_range=(1, 3), norm=u'l2', preprocessor=None, smooth_idf=True...alse,\n",
      "         use_idf=False)), ('clf', MultinomialNB(alpha=0.1, class_prior=None, fit_prior=True))])\n",
      "Best score found by grid search: 0.803616119312\n"
     ]
    }
   ],
   "source": [
    "nb_steps = [\n",
    "    ('vect', TfidfVectorizer(stop_words='english', min_df=5)),\n",
    "    ('tfidf', TfidfTransformer()),\n",
    "    ('clf', MultinomialNB())\n",
    "]\n",
    "\n",
    "clf_nb = Pipeline(nb_steps)\n",
    "\n",
    "params_nb = {\n",
    "    'vect__ngram_range': [(1,3)],\n",
    "    'tfidf__use_idf': (True, False),\n",
    "    'clf__alpha': [0.001, 0.01, 0.1, 1, 10, 100]\n",
    "}\n",
    "\n",
    "gs = GridSearchCV(clf_nb,\n",
    "                  params_nb,\n",
    "                  n_jobs = -1\n",
    "                 )\n",
    "\n",
    "print \"Training Classifier\"\n",
    "t0 = time()\n",
    "\n",
    "# x_train, x_test, y_train, y_test = train_test_split(train_df.stems, train_df.author, test_size=.3, random_state=42)\n",
    "gs = gs.fit(train_df.stems, train_df.author)\n",
    "print \"done in {} seconds\".format(time() - t0)\n",
    "\n",
    "clf = gs.best_estimator_\n",
    "print \"Best estimator found by grid search:\", clf\n",
    "print \"Best score found by grid search:\", gs.best_score_"
   ]
  },
  {
   "cell_type": "code",
   "execution_count": 57,
   "metadata": {},
   "outputs": [
    {
     "data": {
      "text/plain": [
       "u'this process howev afford me no mean of ascertain the dimens of my dungeon as i might make it circuit and return to the point whenc i set out without be awar of the fact so perfect uniform seem the wall'"
      ]
     },
     "execution_count": 57,
     "metadata": {},
     "output_type": "execute_result"
    }
   ],
   "source": [
    "train_df.loc[0,\"stems\"]"
   ]
  },
  {
   "cell_type": "code",
   "execution_count": 51,
   "metadata": {},
   "outputs": [
    {
     "data": {
      "text/plain": [
       "(13705, 15130)"
      ]
     },
     "execution_count": 51,
     "metadata": {},
     "output_type": "execute_result"
    }
   ],
   "source": [
    "x_train.shape"
   ]
  },
  {
   "cell_type": "code",
   "execution_count": 52,
   "metadata": {},
   "outputs": [
    {
     "data": {
      "text/plain": [
       "(13705,)"
      ]
     },
     "execution_count": 52,
     "metadata": {},
     "output_type": "execute_result"
    }
   ],
   "source": [
    "y_train.shape"
   ]
  },
  {
   "cell_type": "markdown",
   "metadata": {},
   "source": [
    "# Conclusions\n",
    "\n",
    "Overall, this was a great first step. The 83% accuracy achieved here is not phenomenal but it is a great baseline from which to improve and was accomplished in a few short lines of code! Next steps will include preparing this for submission and iterating on our process. Thanks for taking the time to read this!"
   ]
  },
  {
   "cell_type": "markdown",
   "metadata": {},
   "source": [
    "#"
   ]
  },
  {
   "cell_type": "markdown",
   "metadata": {},
   "source": [
    "#"
   ]
  },
  {
   "cell_type": "markdown",
   "metadata": {},
   "source": [
    "#"
   ]
  }
 ],
 "metadata": {
  "kernelspec": {
   "display_name": "Python [conda env:DAND]",
   "language": "python",
   "name": "conda-env-DAND-py"
  },
  "language_info": {
   "codemirror_mode": {
    "name": "ipython",
    "version": 2
   },
   "file_extension": ".py",
   "mimetype": "text/x-python",
   "name": "python",
   "nbconvert_exporter": "python",
   "pygments_lexer": "ipython2",
   "version": "2.7.12"
  },
  "toc": {
   "nav_menu": {},
   "number_sections": true,
   "sideBar": true,
   "skip_h1_title": false,
   "toc_cell": false,
   "toc_position": {},
   "toc_section_display": "block",
   "toc_window_display": true
  }
 },
 "nbformat": 4,
 "nbformat_minor": 2
}
